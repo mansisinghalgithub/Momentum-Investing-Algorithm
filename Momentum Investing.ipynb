{
 "cells": [
  {
   "cell_type": "code",
   "execution_count": 4,
   "id": "d1703deb-9f7b-4d55-b011-2c053e57d1d2",
   "metadata": {},
   "outputs": [
    {
     "name": "stderr",
     "output_type": "stream",
     "text": [
      "[*********************100%%**********************]  4 of 4 completed"
     ]
    },
    {
     "name": "stdout",
     "output_type": "stream",
     "text": [
      "dataset\n",
      "Top Stocks to Buy: Ticker\n",
      "GOOGL    31.147006\n",
      "dtype: float64\n",
      "Bottom Stocks to Sell: Ticker\n",
      "AAPL    10.697249\n",
      "dtype: float64\n"
     ]
    },
    {
     "name": "stderr",
     "output_type": "stream",
     "text": [
      "\n"
     ]
    }
   ],
   "source": [
    "import yfinance as yf\n",
    "import pandas as pd\n",
    "from datetime import datetime, timedelta\n",
    "from typing import List\n",
    "\n",
    "def fetch_stock_data(tickers: List[str], period: str = \"6mo\") -> pd.DataFrame:\n",
    "    data = yf.download(tickers, period=period, interval=\"1d\")['Adj Close']\n",
    "    return data\n",
    "\n",
    "def calculate_momentum(data: pd.DataFrame) -> pd.Series:\n",
    "    momentum = (data.iloc[-1] / data.iloc[0] - 1) * 100\n",
    "    return momentum\n",
    "\n",
    "def create_momentum_strategy(tickers: List[str], period: str = \"6mo\"):\n",
    "    # Fetch stock data\n",
    "    data = fetch_stock_data(tickers, period)\n",
    "\n",
    "    print('dataset')\n",
    "   # print(data)\n",
    "    \n",
    "    # Calculate momentum\n",
    "    momentum_scores = calculate_momentum(data)\n",
    "\n",
    "   # print(momentum_scores)\n",
    "    \n",
    "    # Rank stocks by momentum\n",
    "    ranked_stocks = momentum_scores.sort_values(ascending=False)\n",
    "\n",
    "    #print(ranked_stocks)\n",
    "    \n",
    "    # Select top and bottom stocks\n",
    "    top_stocks = ranked_stocks.head(1)\n",
    "    bottom_stocks = ranked_stocks.tail(1)\n",
    "    \n",
    "    return top_stocks, bottom_stocks\n",
    "\n",
    "# Example usage\n",
    "tickers = ['AAPL', 'MSFT', 'GOOGL', 'AMZN']  # Replace with any tickers you want to analyze\n",
    "top_stocks, bottom_stocks = create_momentum_strategy(tickers)\n",
    "\n",
    "print(\"Top Stocks to Buy:\", top_stocks)\n",
    "print(\"Bottom Stocks to Sell:\", bottom_stocks)\n"
   ]
  },
  {
   "cell_type": "code",
   "execution_count": null,
   "id": "0ad8777f-503a-46ab-858c-f3041873a9d8",
   "metadata": {},
   "outputs": [],
   "source": []
  }
 ],
 "metadata": {
  "kernelspec": {
   "display_name": "Python 3 (ipykernel)",
   "language": "python",
   "name": "python3"
  },
  "language_info": {
   "codemirror_mode": {
    "name": "ipython",
    "version": 3
   },
   "file_extension": ".py",
   "mimetype": "text/x-python",
   "name": "python",
   "nbconvert_exporter": "python",
   "pygments_lexer": "ipython3",
   "version": "3.11.7"
  }
 },
 "nbformat": 4,
 "nbformat_minor": 5
}
